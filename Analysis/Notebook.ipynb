{
 "cells": [
  {
   "cell_type": "markdown",
   "id": "d81325cb",
   "metadata": {},
   "source": [
    "## IPL Analysis"
   ]
  },
  {
   "cell_type": "markdown",
   "id": "6bc9f410",
   "metadata": {},
   "source": [
    "##### Importing library "
   ]
  },
  {
   "cell_type": "code",
   "execution_count": 2,
   "id": "8c10c4f8",
   "metadata": {},
   "outputs": [],
   "source": [
    "import numpy as np\n",
    "import pandas as pd\n",
    "import matplotlib.pyplot as plt\n",
    "import seaborn as sns"
   ]
  },
  {
   "cell_type": "code",
   "execution_count": 3,
   "id": "b9d72b90",
   "metadata": {},
   "outputs": [],
   "source": [
    "path=r\"D:\\my_git\\ipl_2025_analysis\\data\\ipl_2025_deliveries.csv\""
   ]
  },
  {
   "cell_type": "code",
   "execution_count": 4,
   "id": "e6a934eb",
   "metadata": {},
   "outputs": [],
   "source": [
    "df=pd.read_csv(path)"
   ]
  },
  {
   "cell_type": "code",
   "execution_count": 5,
   "id": "200b38ce",
   "metadata": {},
   "outputs": [
    {
     "data": {
      "text/html": [
       "<div>\n",
       "<style scoped>\n",
       "    .dataframe tbody tr th:only-of-type {\n",
       "        vertical-align: middle;\n",
       "    }\n",
       "\n",
       "    .dataframe tbody tr th {\n",
       "        vertical-align: top;\n",
       "    }\n",
       "\n",
       "    .dataframe thead th {\n",
       "        text-align: right;\n",
       "    }\n",
       "</style>\n",
       "<table border=\"1\" class=\"dataframe\">\n",
       "  <thead>\n",
       "    <tr style=\"text-align: right;\">\n",
       "      <th></th>\n",
       "      <th>match_id</th>\n",
       "      <th>season</th>\n",
       "      <th>match_no</th>\n",
       "      <th>innings</th>\n",
       "      <th>over</th>\n",
       "      <th>runs_of_bat</th>\n",
       "      <th>extras</th>\n",
       "      <th>wide</th>\n",
       "      <th>legbyes</th>\n",
       "      <th>byes</th>\n",
       "      <th>noballs</th>\n",
       "    </tr>\n",
       "  </thead>\n",
       "  <tbody>\n",
       "    <tr>\n",
       "      <th>count</th>\n",
       "      <td>17246.000000</td>\n",
       "      <td>17246.0</td>\n",
       "      <td>17246.000000</td>\n",
       "      <td>17246.000000</td>\n",
       "      <td>17246.000000</td>\n",
       "      <td>17246.000000</td>\n",
       "      <td>17246.000000</td>\n",
       "      <td>17246.000000</td>\n",
       "      <td>17246.000000</td>\n",
       "      <td>17246.000000</td>\n",
       "      <td>17246.000000</td>\n",
       "    </tr>\n",
       "    <tr>\n",
       "      <th>mean</th>\n",
       "      <td>202537.187232</td>\n",
       "      <td>2025.0</td>\n",
       "      <td>37.187232</td>\n",
       "      <td>1.473733</td>\n",
       "      <td>9.480314</td>\n",
       "      <td>1.467935</td>\n",
       "      <td>0.068248</td>\n",
       "      <td>0.038212</td>\n",
       "      <td>0.012061</td>\n",
       "      <td>0.001566</td>\n",
       "      <td>0.004001</td>\n",
       "    </tr>\n",
       "    <tr>\n",
       "      <th>std</th>\n",
       "      <td>21.458575</td>\n",
       "      <td>0.0</td>\n",
       "      <td>21.458575</td>\n",
       "      <td>0.501410</td>\n",
       "      <td>5.650300</td>\n",
       "      <td>1.810856</td>\n",
       "      <td>0.336843</td>\n",
       "      <td>0.191713</td>\n",
       "      <td>0.109160</td>\n",
       "      <td>0.039538</td>\n",
       "      <td>0.063128</td>\n",
       "    </tr>\n",
       "    <tr>\n",
       "      <th>min</th>\n",
       "      <td>202501.000000</td>\n",
       "      <td>2025.0</td>\n",
       "      <td>1.000000</td>\n",
       "      <td>1.000000</td>\n",
       "      <td>0.100000</td>\n",
       "      <td>0.000000</td>\n",
       "      <td>0.000000</td>\n",
       "      <td>0.000000</td>\n",
       "      <td>0.000000</td>\n",
       "      <td>0.000000</td>\n",
       "      <td>0.000000</td>\n",
       "    </tr>\n",
       "    <tr>\n",
       "      <th>25%</th>\n",
       "      <td>202519.000000</td>\n",
       "      <td>2025.0</td>\n",
       "      <td>19.000000</td>\n",
       "      <td>1.000000</td>\n",
       "      <td>4.500000</td>\n",
       "      <td>0.000000</td>\n",
       "      <td>0.000000</td>\n",
       "      <td>0.000000</td>\n",
       "      <td>0.000000</td>\n",
       "      <td>0.000000</td>\n",
       "      <td>0.000000</td>\n",
       "    </tr>\n",
       "    <tr>\n",
       "      <th>50%</th>\n",
       "      <td>202537.000000</td>\n",
       "      <td>2025.0</td>\n",
       "      <td>37.000000</td>\n",
       "      <td>1.000000</td>\n",
       "      <td>9.400000</td>\n",
       "      <td>1.000000</td>\n",
       "      <td>0.000000</td>\n",
       "      <td>0.000000</td>\n",
       "      <td>0.000000</td>\n",
       "      <td>0.000000</td>\n",
       "      <td>0.000000</td>\n",
       "    </tr>\n",
       "    <tr>\n",
       "      <th>75%</th>\n",
       "      <td>202556.000000</td>\n",
       "      <td>2025.0</td>\n",
       "      <td>56.000000</td>\n",
       "      <td>2.000000</td>\n",
       "      <td>14.300000</td>\n",
       "      <td>2.000000</td>\n",
       "      <td>0.000000</td>\n",
       "      <td>0.000000</td>\n",
       "      <td>0.000000</td>\n",
       "      <td>0.000000</td>\n",
       "      <td>0.000000</td>\n",
       "    </tr>\n",
       "    <tr>\n",
       "      <th>max</th>\n",
       "      <td>202574.000000</td>\n",
       "      <td>2025.0</td>\n",
       "      <td>74.000000</td>\n",
       "      <td>4.000000</td>\n",
       "      <td>19.600000</td>\n",
       "      <td>6.000000</td>\n",
       "      <td>5.000000</td>\n",
       "      <td>1.000000</td>\n",
       "      <td>1.000000</td>\n",
       "      <td>1.000000</td>\n",
       "      <td>1.000000</td>\n",
       "    </tr>\n",
       "  </tbody>\n",
       "</table>\n",
       "</div>"
      ],
      "text/plain": [
       "            match_id   season      match_no       innings          over  \\\n",
       "count   17246.000000  17246.0  17246.000000  17246.000000  17246.000000   \n",
       "mean   202537.187232   2025.0     37.187232      1.473733      9.480314   \n",
       "std        21.458575      0.0     21.458575      0.501410      5.650300   \n",
       "min    202501.000000   2025.0      1.000000      1.000000      0.100000   \n",
       "25%    202519.000000   2025.0     19.000000      1.000000      4.500000   \n",
       "50%    202537.000000   2025.0     37.000000      1.000000      9.400000   \n",
       "75%    202556.000000   2025.0     56.000000      2.000000     14.300000   \n",
       "max    202574.000000   2025.0     74.000000      4.000000     19.600000   \n",
       "\n",
       "        runs_of_bat        extras          wide       legbyes          byes  \\\n",
       "count  17246.000000  17246.000000  17246.000000  17246.000000  17246.000000   \n",
       "mean       1.467935      0.068248      0.038212      0.012061      0.001566   \n",
       "std        1.810856      0.336843      0.191713      0.109160      0.039538   \n",
       "min        0.000000      0.000000      0.000000      0.000000      0.000000   \n",
       "25%        0.000000      0.000000      0.000000      0.000000      0.000000   \n",
       "50%        1.000000      0.000000      0.000000      0.000000      0.000000   \n",
       "75%        2.000000      0.000000      0.000000      0.000000      0.000000   \n",
       "max        6.000000      5.000000      1.000000      1.000000      1.000000   \n",
       "\n",
       "            noballs  \n",
       "count  17246.000000  \n",
       "mean       0.004001  \n",
       "std        0.063128  \n",
       "min        0.000000  \n",
       "25%        0.000000  \n",
       "50%        0.000000  \n",
       "75%        0.000000  \n",
       "max        1.000000  "
      ]
     },
     "execution_count": 5,
     "metadata": {},
     "output_type": "execute_result"
    }
   ],
   "source": [
    "df.describe()"
   ]
  },
  {
   "cell_type": "code",
   "execution_count": 6,
   "id": "529cf377",
   "metadata": {},
   "outputs": [
    {
     "data": {
      "text/html": [
       "<div>\n",
       "<style scoped>\n",
       "    .dataframe tbody tr th:only-of-type {\n",
       "        vertical-align: middle;\n",
       "    }\n",
       "\n",
       "    .dataframe tbody tr th {\n",
       "        vertical-align: top;\n",
       "    }\n",
       "\n",
       "    .dataframe thead th {\n",
       "        text-align: right;\n",
       "    }\n",
       "</style>\n",
       "<table border=\"1\" class=\"dataframe\">\n",
       "  <thead>\n",
       "    <tr style=\"text-align: right;\">\n",
       "      <th></th>\n",
       "      <th>match_id</th>\n",
       "      <th>season</th>\n",
       "      <th>phase</th>\n",
       "      <th>match_no</th>\n",
       "      <th>date</th>\n",
       "      <th>venue</th>\n",
       "      <th>batting_team</th>\n",
       "      <th>bowling_team</th>\n",
       "      <th>innings</th>\n",
       "      <th>over</th>\n",
       "      <th>...</th>\n",
       "      <th>bowler</th>\n",
       "      <th>runs_of_bat</th>\n",
       "      <th>extras</th>\n",
       "      <th>wide</th>\n",
       "      <th>legbyes</th>\n",
       "      <th>byes</th>\n",
       "      <th>noballs</th>\n",
       "      <th>wicket_type</th>\n",
       "      <th>player_dismissed</th>\n",
       "      <th>fielder</th>\n",
       "    </tr>\n",
       "  </thead>\n",
       "  <tbody>\n",
       "    <tr>\n",
       "      <th>0</th>\n",
       "      <td>202501</td>\n",
       "      <td>2025</td>\n",
       "      <td>Group Stage</td>\n",
       "      <td>1</td>\n",
       "      <td>Mar 22, 2025</td>\n",
       "      <td>Eden Gardens, Kolkata</td>\n",
       "      <td>KKR</td>\n",
       "      <td>RCB</td>\n",
       "      <td>1</td>\n",
       "      <td>0.1</td>\n",
       "      <td>...</td>\n",
       "      <td>Hazlewood</td>\n",
       "      <td>0</td>\n",
       "      <td>0</td>\n",
       "      <td>0</td>\n",
       "      <td>0</td>\n",
       "      <td>0</td>\n",
       "      <td>0</td>\n",
       "      <td>NaN</td>\n",
       "      <td>NaN</td>\n",
       "      <td>NaN</td>\n",
       "    </tr>\n",
       "    <tr>\n",
       "      <th>1</th>\n",
       "      <td>202501</td>\n",
       "      <td>2025</td>\n",
       "      <td>Group Stage</td>\n",
       "      <td>1</td>\n",
       "      <td>Mar 22, 2025</td>\n",
       "      <td>Eden Gardens, Kolkata</td>\n",
       "      <td>KKR</td>\n",
       "      <td>RCB</td>\n",
       "      <td>1</td>\n",
       "      <td>0.2</td>\n",
       "      <td>...</td>\n",
       "      <td>Hazlewood</td>\n",
       "      <td>4</td>\n",
       "      <td>0</td>\n",
       "      <td>0</td>\n",
       "      <td>0</td>\n",
       "      <td>0</td>\n",
       "      <td>0</td>\n",
       "      <td>NaN</td>\n",
       "      <td>NaN</td>\n",
       "      <td>NaN</td>\n",
       "    </tr>\n",
       "    <tr>\n",
       "      <th>2</th>\n",
       "      <td>202501</td>\n",
       "      <td>2025</td>\n",
       "      <td>Group Stage</td>\n",
       "      <td>1</td>\n",
       "      <td>Mar 22, 2025</td>\n",
       "      <td>Eden Gardens, Kolkata</td>\n",
       "      <td>KKR</td>\n",
       "      <td>RCB</td>\n",
       "      <td>1</td>\n",
       "      <td>0.3</td>\n",
       "      <td>...</td>\n",
       "      <td>Hazlewood</td>\n",
       "      <td>0</td>\n",
       "      <td>0</td>\n",
       "      <td>0</td>\n",
       "      <td>0</td>\n",
       "      <td>0</td>\n",
       "      <td>0</td>\n",
       "      <td>NaN</td>\n",
       "      <td>NaN</td>\n",
       "      <td>NaN</td>\n",
       "    </tr>\n",
       "  </tbody>\n",
       "</table>\n",
       "<p>3 rows × 21 columns</p>\n",
       "</div>"
      ],
      "text/plain": [
       "   match_id  season        phase  match_no          date  \\\n",
       "0    202501    2025  Group Stage         1  Mar 22, 2025   \n",
       "1    202501    2025  Group Stage         1  Mar 22, 2025   \n",
       "2    202501    2025  Group Stage         1  Mar 22, 2025   \n",
       "\n",
       "                   venue batting_team bowling_team  innings  over  ...  \\\n",
       "0  Eden Gardens, Kolkata          KKR          RCB        1   0.1  ...   \n",
       "1  Eden Gardens, Kolkata          KKR          RCB        1   0.2  ...   \n",
       "2  Eden Gardens, Kolkata          KKR          RCB        1   0.3  ...   \n",
       "\n",
       "      bowler runs_of_bat  extras  wide  legbyes  byes  noballs  wicket_type  \\\n",
       "0  Hazlewood           0       0     0        0     0        0          NaN   \n",
       "1  Hazlewood           4       0     0        0     0        0          NaN   \n",
       "2  Hazlewood           0       0     0        0     0        0          NaN   \n",
       "\n",
       "  player_dismissed fielder  \n",
       "0              NaN     NaN  \n",
       "1              NaN     NaN  \n",
       "2              NaN     NaN  \n",
       "\n",
       "[3 rows x 21 columns]"
      ]
     },
     "execution_count": 6,
     "metadata": {},
     "output_type": "execute_result"
    }
   ],
   "source": [
    "df.head(3)"
   ]
  },
  {
   "cell_type": "code",
   "execution_count": 7,
   "id": "4e4f7174",
   "metadata": {},
   "outputs": [
    {
     "data": {
      "text/plain": [
       "Index(['match_id', 'season', 'phase', 'match_no', 'date', 'venue',\n",
       "       'batting_team', 'bowling_team', 'innings', 'over', 'striker', 'bowler',\n",
       "       'runs_of_bat', 'extras', 'wide', 'legbyes', 'byes', 'noballs',\n",
       "       'wicket_type', 'player_dismissed', 'fielder'],\n",
       "      dtype='object')"
      ]
     },
     "execution_count": 7,
     "metadata": {},
     "output_type": "execute_result"
    }
   ],
   "source": [
    "df.columns"
   ]
  },
  {
   "cell_type": "code",
   "execution_count": 8,
   "id": "5d2af418",
   "metadata": {},
   "outputs": [
    {
     "name": "stdout",
     "output_type": "stream",
     "text": [
      "<class 'pandas.core.frame.DataFrame'>\n",
      "RangeIndex: 17246 entries, 0 to 17245\n",
      "Data columns (total 21 columns):\n",
      " #   Column            Non-Null Count  Dtype  \n",
      "---  ------            --------------  -----  \n",
      " 0   match_id          17246 non-null  int64  \n",
      " 1   season            17246 non-null  int64  \n",
      " 2   phase             17246 non-null  object \n",
      " 3   match_no          17246 non-null  int64  \n",
      " 4   date              17246 non-null  object \n",
      " 5   venue             17246 non-null  object \n",
      " 6   batting_team      17246 non-null  object \n",
      " 7   bowling_team      17246 non-null  object \n",
      " 8   innings           17246 non-null  int64  \n",
      " 9   over              17246 non-null  float64\n",
      " 10  striker           17246 non-null  object \n",
      " 11  bowler            17246 non-null  object \n",
      " 12  runs_of_bat       17246 non-null  int64  \n",
      " 13  extras            17246 non-null  int64  \n",
      " 14  wide              17246 non-null  int64  \n",
      " 15  legbyes           17246 non-null  int64  \n",
      " 16  byes              17246 non-null  int64  \n",
      " 17  noballs           17246 non-null  int64  \n",
      " 18  wicket_type       873 non-null    object \n",
      " 19  player_dismissed  873 non-null    object \n",
      " 20  fielder           680 non-null    object \n",
      "dtypes: float64(1), int64(10), object(10)\n",
      "memory usage: 2.8+ MB\n"
     ]
    }
   ],
   "source": [
    "df.info()"
   ]
  },
  {
   "cell_type": "code",
   "execution_count": 9,
   "id": "04b455d6",
   "metadata": {},
   "outputs": [
    {
     "data": {
      "text/plain": [
       "match_id                0\n",
       "season                  0\n",
       "phase                   0\n",
       "match_no                0\n",
       "date                    0\n",
       "venue                   0\n",
       "batting_team            0\n",
       "bowling_team            0\n",
       "innings                 0\n",
       "over                    0\n",
       "striker                 0\n",
       "bowler                  0\n",
       "runs_of_bat             0\n",
       "extras                  0\n",
       "wide                    0\n",
       "legbyes                 0\n",
       "byes                    0\n",
       "noballs                 0\n",
       "wicket_type         16373\n",
       "player_dismissed    16373\n",
       "fielder             16566\n",
       "dtype: int64"
      ]
     },
     "execution_count": 9,
     "metadata": {},
     "output_type": "execute_result"
    }
   ],
   "source": [
    "df.isnull().sum()"
   ]
  },
  {
   "cell_type": "markdown",
   "id": "c2fdb757",
   "metadata": {},
   "source": [
    "#### Maximum run by batsman"
   ]
  },
  {
   "cell_type": "code",
   "execution_count": 10,
   "id": "dc8ba0cb",
   "metadata": {},
   "outputs": [],
   "source": [
    "max_run=df.groupby(\"striker\")['runs_of_bat'].sum()"
   ]
  },
  {
   "cell_type": "code",
   "execution_count": 11,
   "id": "3c3f7b7c",
   "metadata": {},
   "outputs": [],
   "source": [
    "max_run=pd.DataFrame(max_run)\n",
    "max_run=max_run.sort_values(by=\"runs_of_bat\",ascending=False)"
   ]
  },
  {
   "cell_type": "code",
   "execution_count": 12,
   "id": "64630bb0",
   "metadata": {},
   "outputs": [
    {
     "data": {
      "text/html": [
       "<div>\n",
       "<style scoped>\n",
       "    .dataframe tbody tr th:only-of-type {\n",
       "        vertical-align: middle;\n",
       "    }\n",
       "\n",
       "    .dataframe tbody tr th {\n",
       "        vertical-align: top;\n",
       "    }\n",
       "\n",
       "    .dataframe thead th {\n",
       "        text-align: right;\n",
       "    }\n",
       "</style>\n",
       "<table border=\"1\" class=\"dataframe\">\n",
       "  <thead>\n",
       "    <tr style=\"text-align: right;\">\n",
       "      <th></th>\n",
       "      <th>runs_of_bat</th>\n",
       "    </tr>\n",
       "    <tr>\n",
       "      <th>striker</th>\n",
       "      <th></th>\n",
       "    </tr>\n",
       "  </thead>\n",
       "  <tbody>\n",
       "    <tr>\n",
       "      <th>Sai Sudharsan</th>\n",
       "      <td>759</td>\n",
       "    </tr>\n",
       "    <tr>\n",
       "      <th>Suryakumar Yadav</th>\n",
       "      <td>717</td>\n",
       "    </tr>\n",
       "    <tr>\n",
       "      <th>Kohli</th>\n",
       "      <td>657</td>\n",
       "    </tr>\n",
       "    <tr>\n",
       "      <th>Shubman Gill</th>\n",
       "      <td>650</td>\n",
       "    </tr>\n",
       "    <tr>\n",
       "      <th>Mitchell Marsh</th>\n",
       "      <td>627</td>\n",
       "    </tr>\n",
       "    <tr>\n",
       "      <th>Shreyas Iyer</th>\n",
       "      <td>604</td>\n",
       "    </tr>\n",
       "    <tr>\n",
       "      <th>Prabhsimran</th>\n",
       "      <td>599</td>\n",
       "    </tr>\n",
       "    <tr>\n",
       "      <th>Jaiswal</th>\n",
       "      <td>559</td>\n",
       "    </tr>\n",
       "    <tr>\n",
       "      <th>Rahul</th>\n",
       "      <td>546</td>\n",
       "    </tr>\n",
       "    <tr>\n",
       "      <th>Priyansh Arya</th>\n",
       "      <td>545</td>\n",
       "    </tr>\n",
       "  </tbody>\n",
       "</table>\n",
       "</div>"
      ],
      "text/plain": [
       "                  runs_of_bat\n",
       "striker                      \n",
       "Sai Sudharsan             759\n",
       "Suryakumar Yadav          717\n",
       "Kohli                     657\n",
       "Shubman Gill              650\n",
       "Mitchell Marsh            627\n",
       "Shreyas Iyer              604\n",
       "Prabhsimran               599\n",
       "Jaiswal                   559\n",
       "Rahul                     546\n",
       "Priyansh Arya             545"
      ]
     },
     "execution_count": 12,
     "metadata": {},
     "output_type": "execute_result"
    }
   ],
   "source": [
    "max_run.head(10)"
   ]
  },
  {
   "cell_type": "code",
   "execution_count": 13,
   "id": "60760956",
   "metadata": {},
   "outputs": [],
   "source": [
    "top_run=max_run.reset_index().head(10)"
   ]
  },
  {
   "cell_type": "code",
   "execution_count": 14,
   "id": "7a9470f2",
   "metadata": {},
   "outputs": [
    {
     "name": "stderr",
     "output_type": "stream",
     "text": [
      "C:\\Users\\briyani\\AppData\\Local\\Temp\\ipykernel_44364\\2461841659.py:2: FutureWarning: \n",
      "\n",
      "Passing `palette` without assigning `hue` is deprecated and will be removed in v0.14.0. Assign the `x` variable to `hue` and set `legend=False` for the same effect.\n",
      "\n",
      "  sns.barplot(data=top_run, x=\"striker\",y=\"runs_of_bat\",palette=\"viridis\")\n"
     ]
    },
    {
     "data": {
      "image/png": "[encoded data removed]",
      "text/plain": [
       "<Figure size 1000x1200 with 1 Axes>"
      ]
     },
     "metadata": {},
     "output_type": "display_data"
    }
   ],
   "source": [
    "plt.figure(figsize=(10,12))\n",
    "sns.barplot(data=top_run, x=\"striker\",y=\"runs_of_bat\",palette=\"viridis\")\n",
    "plt.xlabel(\"Batsman\")\n",
    "plt.xticks(rotation=45)\n",
    "plt.ylabel(\"Runs\")\n",
    "plt.tight_layout()\n",
    "plt.show()"
   ]
  },
  {
   "cell_type": "markdown",
   "id": "4e04c0f9",
   "metadata": {},
   "source": [
    "#### Maximum wide "
   ]
  },
  {
   "cell_type": "code",
   "execution_count": 15,
   "id": "793a2a0b",
   "metadata": {},
   "outputs": [],
   "source": [
    "max_wide=df.groupby(\"bowler\")[\"wide\"].sum()"
   ]
  },
  {
   "cell_type": "code",
   "execution_count": 16,
   "id": "0f1b50c5",
   "metadata": {},
   "outputs": [],
   "source": [
    "max_wide=pd.DataFrame(max_wide).sort_values(by=\"wide\",ascending=False)"
   ]
  },
  {
   "cell_type": "code",
   "execution_count": 17,
   "id": "01c7fa90",
   "metadata": {},
   "outputs": [
    {
     "data": {
      "text/html": [
       "<div>\n",
       "<style scoped>\n",
       "    .dataframe tbody tr th:only-of-type {\n",
       "        vertical-align: middle;\n",
       "    }\n",
       "\n",
       "    .dataframe tbody tr th {\n",
       "        vertical-align: top;\n",
       "    }\n",
       "\n",
       "    .dataframe thead th {\n",
       "        text-align: right;\n",
       "    }\n",
       "</style>\n",
       "<table border=\"1\" class=\"dataframe\">\n",
       "  <thead>\n",
       "    <tr style=\"text-align: right;\">\n",
       "      <th></th>\n",
       "      <th>wide</th>\n",
       "    </tr>\n",
       "    <tr>\n",
       "      <th>bowler</th>\n",
       "      <th></th>\n",
       "    </tr>\n",
       "  </thead>\n",
       "  <tbody>\n",
       "    <tr>\n",
       "      <th>Pathirana</th>\n",
       "      <td>32</td>\n",
       "    </tr>\n",
       "    <tr>\n",
       "      <th>Siraj</th>\n",
       "      <td>22</td>\n",
       "    </tr>\n",
       "    <tr>\n",
       "      <th>Tushar Deshpande</th>\n",
       "      <td>19</td>\n",
       "    </tr>\n",
       "    <tr>\n",
       "      <th>Sandeep Sharma</th>\n",
       "      <td>17</td>\n",
       "    </tr>\n",
       "    <tr>\n",
       "      <th>Harshal Patel</th>\n",
       "      <td>17</td>\n",
       "    </tr>\n",
       "  </tbody>\n",
       "</table>\n",
       "</div>"
      ],
      "text/plain": [
       "                  wide\n",
       "bowler                \n",
       "Pathirana           32\n",
       "Siraj               22\n",
       "Tushar Deshpande    19\n",
       "Sandeep Sharma      17\n",
       "Harshal Patel       17"
      ]
     },
     "execution_count": 17,
     "metadata": {},
     "output_type": "execute_result"
    }
   ],
   "source": [
    "max_wide.head()"
   ]
  },
  {
   "cell_type": "code",
   "execution_count": 18,
   "id": "71207505",
   "metadata": {},
   "outputs": [
    {
     "data": {
      "image/png": "[encoded data removed]",
      "text/plain": [
       "<Figure size 1000x1000 with 1 Axes>"
      ]
     },
     "metadata": {},
     "output_type": "display_data"
    }
   ],
   "source": [
    "plt.figure(figsize=(10,10))\n",
    "sns.barplot(data=max_wide.head(10),x=\"bowler\",y=\"wide\")\n",
    "plt.title(\"Wide in Entire tournament\")\n",
    "plt.xlabel(\"bowler\")\n",
    "plt.ylabel(\"Number_of_wide\")\n",
    "plt.xticks(rotation=45)\n",
    "plt.show()"
   ]
  },
  {
   "cell_type": "markdown",
   "id": "81dc1718",
   "metadata": {},
   "source": [
    "#### CSK "
   ]
  },
  {
   "cell_type": "code",
   "execution_count": 19,
   "id": "5ad1ee2d",
   "metadata": {},
   "outputs": [
    {
     "data": {
      "text/plain": [
       "array(['RCB', 'KKR', 'RR', 'SRH', 'CSK', 'MI', 'DC', 'LSG', 'GT', 'PBKS'],\n",
       "      dtype=object)"
      ]
     },
     "execution_count": 19,
     "metadata": {},
     "output_type": "execute_result"
    }
   ],
   "source": [
    "df[\"bowling_team\"].unique()"
   ]
  },
  {
   "cell_type": "code",
   "execution_count": 20,
   "id": "c0af34e8",
   "metadata": {},
   "outputs": [],
   "source": [
    "csk=df[df[\"bowling_team\"]==\"CSK\"]"
   ]
  },
  {
   "cell_type": "code",
   "execution_count": 21,
   "id": "498b67af",
   "metadata": {},
   "outputs": [],
   "source": [
    "csk_max_wide=pd.DataFrame(csk.groupby(\"bowler\")[\"wide\"].sum()).sort_values(by=\"wide\",ascending=False)"
   ]
  },
  {
   "cell_type": "code",
   "execution_count": 22,
   "id": "67b15312",
   "metadata": {},
   "outputs": [
    {
     "data": {
      "text/html": [
       "<div>\n",
       "<style scoped>\n",
       "    .dataframe tbody tr th:only-of-type {\n",
       "        vertical-align: middle;\n",
       "    }\n",
       "\n",
       "    .dataframe tbody tr th {\n",
       "        vertical-align: top;\n",
       "    }\n",
       "\n",
       "    .dataframe thead th {\n",
       "        text-align: right;\n",
       "    }\n",
       "</style>\n",
       "<table border=\"1\" class=\"dataframe\">\n",
       "  <thead>\n",
       "    <tr style=\"text-align: right;\">\n",
       "      <th></th>\n",
       "      <th>wide</th>\n",
       "    </tr>\n",
       "    <tr>\n",
       "      <th>bowler</th>\n",
       "      <th></th>\n",
       "    </tr>\n",
       "  </thead>\n",
       "  <tbody>\n",
       "    <tr>\n",
       "      <th>Pathirana</th>\n",
       "      <td>32</td>\n",
       "    </tr>\n",
       "    <tr>\n",
       "      <th>Noor Ahmad</th>\n",
       "      <td>11</td>\n",
       "    </tr>\n",
       "    <tr>\n",
       "      <th>Khaleel Ahmed</th>\n",
       "      <td>7</td>\n",
       "    </tr>\n",
       "    <tr>\n",
       "      <th>Jamie Overton</th>\n",
       "      <td>4</td>\n",
       "    </tr>\n",
       "    <tr>\n",
       "      <th>Ashwin</th>\n",
       "      <td>3</td>\n",
       "    </tr>\n",
       "    <tr>\n",
       "      <th>Jadeja</th>\n",
       "      <td>3</td>\n",
       "    </tr>\n",
       "    <tr>\n",
       "      <th>Sam Curran</th>\n",
       "      <td>2</td>\n",
       "    </tr>\n",
       "    <tr>\n",
       "      <th>Hooda</th>\n",
       "      <td>1</td>\n",
       "    </tr>\n",
       "    <tr>\n",
       "      <th>Nathan Ellis</th>\n",
       "      <td>1</td>\n",
       "    </tr>\n",
       "    <tr>\n",
       "      <th>Shivam Dube</th>\n",
       "      <td>1</td>\n",
       "    </tr>\n",
       "  </tbody>\n",
       "</table>\n",
       "</div>"
      ],
      "text/plain": [
       "               wide\n",
       "bowler             \n",
       "Pathirana        32\n",
       "Noor Ahmad       11\n",
       "Khaleel Ahmed     7\n",
       "Jamie Overton     4\n",
       "Ashwin            3\n",
       "Jadeja            3\n",
       "Sam Curran        2\n",
       "Hooda             1\n",
       "Nathan Ellis      1\n",
       "Shivam Dube       1"
      ]
     },
     "execution_count": 22,
     "metadata": {},
     "output_type": "execute_result"
    }
   ],
   "source": [
    "csk_max_wide.head(10)"
   ]
  },
  {
   "cell_type": "code",
   "execution_count": 23,
   "id": "584b00d2",
   "metadata": {},
   "outputs": [],
   "source": [
    "csk_bat=df[df[\"batting_team\"]==\"CSK\"]\n",
    "csk_run=pd.DataFrame(csk_bat.groupby(\"striker\")[\"runs_of_bat\"].sum()).sort_values(by=\"runs_of_bat\",ascending=False)"
   ]
  },
  {
   "cell_type": "code",
   "execution_count": 24,
   "id": "71cde4e8",
   "metadata": {},
   "outputs": [
    {
     "data": {
      "image/png": "[encoded data removed]",
      "text/plain": [
       "<Figure size 1000x600 with 1 Axes>"
      ]
     },
     "metadata": {},
     "output_type": "display_data"
    }
   ],
   "source": [
    "plt.figure(figsize=(10,6))\n",
    "sns.barplot(data=csk_run,x=\"striker\",y=\"runs_of_bat\")\n",
    "plt.title(\"Score of Batsman in CSK Team\")\n",
    "plt.xticks(rotation=45)\n",
    "plt.xlabel(\"Batsman Name\")\n",
    "plt.ylabel('Total score in tournament')\n",
    "plt.show()\n"
   ]
  },
  {
   "cell_type": "markdown",
   "id": "e35b7913",
   "metadata": {},
   "source": [
    "##### Each Team total score "
   ]
  },
  {
   "cell_type": "code",
   "execution_count": 25,
   "id": "5a6a9759",
   "metadata": {},
   "outputs": [],
   "source": [
    "df['total_run']=df['runs_of_bat']+df['extras']\n",
    "team_total=df.groupby('batting_team')['total_run'].sum()"
   ]
  },
  {
   "cell_type": "code",
   "execution_count": 26,
   "id": "ddb88c1f",
   "metadata": {},
   "outputs": [],
   "source": [
    "team_total=pd.DataFrame(team_total).sort_values(by='total_run',ascending=False)\n"
   ]
  },
  {
   "cell_type": "code",
   "execution_count": 27,
   "id": "44685e87",
   "metadata": {},
   "outputs": [],
   "source": [
    "team_colors = {\n",
    "    'RCB': '#D50032',\n",
    "    'KKR': '#4B2153',\n",
    "    'RR': '#004C93',\n",
    "    'SRH': '#F05A28',\n",
    "    'CSK': '#FAD201',\n",
    "    'MI': '#004BA0',\n",
    "    'DC': '#004C93',\n",
    "    'LSG': '#F5D547',\n",
    "    'GT': '#008080',\n",
    "    'PBKS': '#E41D44'\n",
    "}"
   ]
  },
  {
   "cell_type": "code",
   "execution_count": 36,
   "id": "aef1948b",
   "metadata": {},
   "outputs": [
    {
     "name": "stderr",
     "output_type": "stream",
     "text": [
      "C:\\Users\\briyani\\AppData\\Local\\Temp\\ipykernel_44364\\2376971985.py:1: FutureWarning: \n",
      "\n",
      "Passing `palette` without assigning `hue` is deprecated and will be removed in v0.14.0. Assign the `x` variable to `hue` and set `legend=False` for the same effect.\n",
      "\n",
      "  barplot=sns.barplot(data=team_total,x=\"batting_team\",y='total_run',palette=team_colors)\n"
     ]
    },
    {
     "data": {
      "image/png": "[encoded data removed]",
      "text/plain": [
       "<Figure size 640x480 with 1 Axes>"
      ]
     },
     "metadata": {},
     "output_type": "display_data"
    }
   ],
   "source": [
    "barplot=sns.barplot(data=team_total,x=\"batting_team\",y='total_run',palette=team_colors)\n",
    "for bar in barplot.patches:\n",
    "    barplot.text(\n",
    "        bar.get_x() + bar.get_width() / 2,  \n",
    "        bar.get_height(),                   \n",
    "        int(bar.get_height()),               \n",
    "        ha='center',                        \n",
    "        va='bottom'                        \n",
    "    )\n",
    "plt.xlabel(\"TEAM\")\n",
    "plt.ylabel(\"TEAM SCORE\")\n",
    "plt.title(\"TOTAL TEAM SCORE IN 2025 IPL\")\n",
    "plt.show()"
   ]
  },
  {
   "cell_type": "code",
   "execution_count": 29,
   "id": "e9fe35b1",
   "metadata": {},
   "outputs": [],
   "source": [
    "max_noball=pd.DataFrame(df.groupby(\"bowler\")[\"noballs\"].sum()).sort_values(by=\"noballs\",ascending=False)"
   ]
  },
  {
   "cell_type": "code",
   "execution_count": 30,
   "id": "55cfc35d",
   "metadata": {},
   "outputs": [
    {
     "data": {
      "text/html": [
       "<div>\n",
       "<style scoped>\n",
       "    .dataframe tbody tr th:only-of-type {\n",
       "        vertical-align: middle;\n",
       "    }\n",
       "\n",
       "    .dataframe tbody tr th {\n",
       "        vertical-align: top;\n",
       "    }\n",
       "\n",
       "    .dataframe thead th {\n",
       "        text-align: right;\n",
       "    }\n",
       "</style>\n",
       "<table border=\"1\" class=\"dataframe\">\n",
       "  <thead>\n",
       "    <tr style=\"text-align: right;\">\n",
       "      <th></th>\n",
       "      <th>noballs</th>\n",
       "    </tr>\n",
       "    <tr>\n",
       "      <th>bowler</th>\n",
       "      <th></th>\n",
       "    </tr>\n",
       "  </thead>\n",
       "  <tbody>\n",
       "    <tr>\n",
       "      <th>Harshal Patel</th>\n",
       "      <td>4</td>\n",
       "    </tr>\n",
       "    <tr>\n",
       "      <th>Yash Dayal</th>\n",
       "      <td>4</td>\n",
       "    </tr>\n",
       "    <tr>\n",
       "      <th>Vipraj Nigam</th>\n",
       "      <td>4</td>\n",
       "    </tr>\n",
       "    <tr>\n",
       "      <th>Mitchell Starc</th>\n",
       "      <td>4</td>\n",
       "    </tr>\n",
       "    <tr>\n",
       "      <th>Russell</th>\n",
       "      <td>3</td>\n",
       "    </tr>\n",
       "    <tr>\n",
       "      <th>Khaleel Ahmed</th>\n",
       "      <td>3</td>\n",
       "    </tr>\n",
       "    <tr>\n",
       "      <th>Mohit Sharma</th>\n",
       "      <td>3</td>\n",
       "    </tr>\n",
       "    <tr>\n",
       "      <th>Noor Ahmad</th>\n",
       "      <td>3</td>\n",
       "    </tr>\n",
       "    <tr>\n",
       "      <th>Jadeja</th>\n",
       "      <td>2</td>\n",
       "    </tr>\n",
       "    <tr>\n",
       "      <th>Hardik Pandya</th>\n",
       "      <td>2</td>\n",
       "    </tr>\n",
       "  </tbody>\n",
       "</table>\n",
       "</div>"
      ],
      "text/plain": [
       "                noballs\n",
       "bowler                 \n",
       "Harshal Patel         4\n",
       "Yash Dayal            4\n",
       "Vipraj Nigam          4\n",
       "Mitchell Starc        4\n",
       "Russell               3\n",
       "Khaleel Ahmed         3\n",
       "Mohit Sharma          3\n",
       "Noor Ahmad            3\n",
       "Jadeja                2\n",
       "Hardik Pandya         2"
      ]
     },
     "execution_count": 30,
     "metadata": {},
     "output_type": "execute_result"
    }
   ],
   "source": [
    "max_noball.head(10)"
   ]
  },
  {
   "cell_type": "code",
   "execution_count": null,
   "id": "a2379d7b",
   "metadata": {},
   "outputs": [],
   "source": []
  },
  {
   "cell_type": "code",
   "execution_count": null,
   "id": "27756eea",
   "metadata": {},
   "outputs": [],
   "source": []
  }
 ],
 "metadata": {
  "kernelspec": {
   "display_name": "Python 3",
   "language": "python",
   "name": "python3"
  },
  "language_info": {
   "codemirror_mode": {
    "name": "ipython",
    "version": 3
   },
   "file_extension": ".py",
   "mimetype": "text/x-python",
   "name": "python",
   "nbconvert_exporter": "python",
   "pygments_lexer": "ipython3",
   "version": "3.11.9"
  }
 },
 "nbformat": 4,
 "nbformat_minor": 5
}
